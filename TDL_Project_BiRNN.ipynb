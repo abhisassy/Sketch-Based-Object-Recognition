{
 "cells": [
  {
   "cell_type": "markdown",
   "metadata": {},
   "source": [
    "# Topics In Deep Learning Project 2019"
   ]
  },
  {
   "cell_type": "markdown",
   "metadata": {},
   "source": [
    "### Team :\n",
    "Abhishek Saseendran - 01FB16ECS018 \n",
    "\n",
    "Abhinav Hegde\n",
    "\n",
    "Madan"
   ]
  },
  {
   "cell_type": "markdown",
   "metadata": {},
   "source": [
    "### Project Discription : \n",
    "Implementing a Bidirectional RNN with LSTM cell, to classify handrawn images.\n",
    "\n",
    "Data set obtained from \"Google Quick Draw Dataset\" - https://console.cloud.google.com/storage/browser/quickdraw_dataset/full/numpy_bit"
   ]
  },
  {
   "cell_type": "markdown",
   "metadata": {},
   "source": [
    "### Code"
   ]
  },
  {
   "cell_type": "code",
   "execution_count": 1,
   "metadata": {},
   "outputs": [],
   "source": [
    "from   __future__         import print_function\n",
    "from   tensorflow.contrib import rnn\n",
    "from   PIL                import Image,ImageDraw\n",
    "from   PIL                import ImageFilter\n",
    "import numpy as np\n",
    "import os \n",
    "import random\n",
    "import tensorflow as tf\n",
    "import matplotlib.pyplot as plt\n",
    "import tkinter as tk\n",
    "import PIL"
   ]
  },
  {
   "cell_type": "code",
   "execution_count": 2,
   "metadata": {},
   "outputs": [
    {
     "name": "stdout",
     "output_type": "stream",
     "text": [
      "Reading image data from : \n",
      "eye.npy\n",
      "line.npy\n",
      "square.npy\n",
      "star.npy\n",
      "tower.npy\n",
      "tree.npy\n",
      "Class Dictionary : \n",
      "{0: 'eye', 1: 'line', 2: 'square', 3: 'star', 4: 'tower', 5: 'tree'}\n"
     ]
    },
    {
     "data": {
      "image/png": "[encoded data removed]",
      "text/plain": [
       "<Figure size 720x288 with 1 Axes>"
      ]
     },
     "metadata": {
      "needs_background": "light"
     },
     "output_type": "display_data"
    },
    {
     "name": "stdout",
     "output_type": "stream",
     "text": [
      "[0, 0, 0, 0, 1, 0]\n"
     ]
    },
    {
     "data": {
      "image/png": "[encoded data removed]",
      "text/plain": [
       "<Figure size 432x288 with 1 Axes>"
      ]
     },
     "metadata": {
      "needs_background": "light"
     },
     "output_type": "display_data"
    },
    {
     "name": "stdout",
     "output_type": "stream",
     "text": [
      "[0, 0, 0, 1, 0, 0]\n"
     ]
    },
    {
     "data": {
      "image/png": "[encoded data removed]",
      "text/plain": [
       "<Figure size 432x288 with 1 Axes>"
      ]
     },
     "metadata": {
      "needs_background": "light"
     },
     "output_type": "display_data"
    },
    {
     "name": "stdout",
     "output_type": "stream",
     "text": [
      "[1, 0, 0, 0, 0, 0]\n"
     ]
    },
    {
     "data": {
      "image/png": "[encoded data removed]",
      "text/plain": [
       "<Figure size 432x288 with 1 Axes>"
      ]
     },
     "metadata": {
      "needs_background": "light"
     },
     "output_type": "display_data"
    },
    {
     "name": "stdout",
     "output_type": "stream",
     "text": [
      "[0, 0, 0, 0, 0, 1]\n"
     ]
    },
    {
     "data": {
      "image/png": "[encoded data removed]",
      "text/plain": [
       "<Figure size 432x288 with 1 Axes>"
      ]
     },
     "metadata": {
      "needs_background": "light"
     },
     "output_type": "display_data"
    },
    {
     "name": "stdout",
     "output_type": "stream",
     "text": [
      "[0, 0, 1, 0, 0, 0]\n"
     ]
    },
    {
     "data": {
      "image/png": "[encoded data removed]",
      "text/plain": [
       "<Figure size 432x288 with 1 Axes>"
      ]
     },
     "metadata": {
      "needs_background": "light"
     },
     "output_type": "display_data"
    },
    {
     "name": "stdout",
     "output_type": "stream",
     "text": [
      "[0, 1, 0, 0, 0, 0]\n"
     ]
    },
    {
     "data": {
      "image/png": "[encoded data removed]",
      "text/plain": [
       "<Figure size 432x288 with 1 Axes>"
      ]
     },
     "metadata": {
      "needs_background": "light"
     },
     "output_type": "display_data"
    },
    {
     "name": "stdout",
     "output_type": "stream",
     "text": [
      "[0, 0, 0, 0, 1, 0]\n"
     ]
    },
    {
     "data": {
      "image/png": "[encoded data removed]",
      "text/plain": [
       "<Figure size 432x288 with 1 Axes>"
      ]
     },
     "metadata": {
      "needs_background": "light"
     },
     "output_type": "display_data"
    },
    {
     "name": "stdout",
     "output_type": "stream",
     "text": [
      "[0, 0, 0, 0, 0, 1]\n"
     ]
    },
    {
     "data": {
      "image/png": "[encoded data removed]",
      "text/plain": [
       "<Figure size 432x288 with 1 Axes>"
      ]
     },
     "metadata": {
      "needs_background": "light"
     },
     "output_type": "display_data"
    },
    {
     "name": "stdout",
     "output_type": "stream",
     "text": [
      "[0, 1, 0, 0, 0, 0]\n"
     ]
    },
    {
     "data": {
      "image/png": "[encoded data removed]",
      "text/plain": [
       "<Figure size 432x288 with 1 Axes>"
      ]
     },
     "metadata": {
      "needs_background": "light"
     },
     "output_type": "display_data"
    },
    {
     "name": "stdout",
     "output_type": "stream",
     "text": [
      "[0, 0, 0, 0, 1, 0]\n"
     ]
    }
   ],
   "source": [
    "#Reading the dataset \n",
    "\n",
    "num_classes  = 6 #number of image (.npy) files \n",
    "\n",
    "train_length = num_classes*100000   \n",
    "test_length  = num_classes*10000\n",
    "\n",
    "\n",
    "x_train =[]\n",
    "y_train =[]\n",
    "x_test = []\n",
    "y_test = []\n",
    "\n",
    "class_dictionary ={} #will conatin the mapping of class names and their indicies \n",
    "\n",
    "path = 'data/'\n",
    "dictionary_index = 0\n",
    "\n",
    "print(\"Reading image data from : \")\n",
    "# r=root, d=directories, f = files\n",
    "for r, d, f in os.walk(path):\n",
    "    for file in f:\n",
    "        if '.npy' in file:\n",
    "            print(file)\n",
    "            class_dictionary[dictionary_index] = file.split('.')[0]\n",
    "            dictionary_index += 1\n",
    "            data = np.load(path+file)\n",
    "            x_train.extend(data[:100000])\n",
    "            x_test.extend(data[100000:110000])\n",
    "            \n",
    "print(\"Class Dictionary : \")\n",
    "print(class_dictionary)\n",
    "#labeling the data\n",
    "index = 0\n",
    "for i in range (train_length):\n",
    "    if(i%100000 == 0):\n",
    "        one_hot_encoding = [0 for i in range(num_classes)]\n",
    "        one_hot_encoding[index] = 1\n",
    "        index = index + 1\n",
    "        #print(one_hot_encoding)\n",
    "    y_train.extend([one_hot_encoding])\n",
    "    \n",
    "index = 0\n",
    "for i in range (test_length):\n",
    "    if(i%10000 == 0):\n",
    "        one_hot_encoding = [0 for i in range(num_classes)]\n",
    "        one_hot_encoding[index] = 1\n",
    "        index = index + 1\n",
    "        #print(one_hot_encoding)\n",
    "    y_test.extend([one_hot_encoding])\n",
    "\n",
    "#shuffle for nromalisation\n",
    "seed = 4\n",
    "random.Random(seed).shuffle(x_train)\n",
    "random.Random(seed).shuffle(y_train)\n",
    "random.Random(seed).shuffle(x_test)\n",
    "random.Random(seed).shuffle(y_test)\n",
    "    \n",
    "    \n",
    "#plot some of the images \n",
    "plt.figure(figsize=(10, 4))\n",
    "\n",
    "for i in range(10):\n",
    "    # display original\n",
    "    ax = plt.subplot(2, 10, i + 1)\n",
    "    plt.imshow(x_train[i].reshape(28,28))\n",
    "    plt.gray()\n",
    "    ax.get_xaxis().set_visible(False)\n",
    "    ax.get_yaxis().set_visible(False)\n",
    "    plt.show()\n",
    "    print(y_train[i])\n",
    "\n",
    "\n",
    "#store as numpy arary \n",
    "x_test  = np.asarray(x_test)\n",
    "y_test  = np.asarray(y_test)\n",
    "x_train = np.asarray(x_train)\n",
    "y_train = np.asarray(y_train)\n"
   ]
  },
  {
   "cell_type": "code",
   "execution_count": 3,
   "metadata": {},
   "outputs": [
    {
     "name": "stderr",
     "output_type": "stream",
     "text": [
      "WARNING: Logging before flag parsing goes to stderr.\n",
      "W1127 02:16:53.045368  6920 deprecation.py:323] From <ipython-input-3-73b6020b37ba>:34: BasicLSTMCell.__init__ (from tensorflow.python.ops.rnn_cell_impl) is deprecated and will be removed in a future version.\n",
      "Instructions for updating:\n",
      "This class is equivalent as tf.keras.layers.LSTMCell, and will be replaced by that in Tensorflow 2.0.\n",
      "W1127 02:16:53.058967  6920 deprecation.py:323] From <ipython-input-3-73b6020b37ba>:41: static_bidirectional_rnn (from tensorflow.python.ops.rnn) is deprecated and will be removed in a future version.\n",
      "Instructions for updating:\n",
      "Please use `keras.layers.Bidirectional(keras.layers.RNN(cell, unroll=True))`, which is equivalent to this API\n",
      "W1127 02:16:53.062969  6920 deprecation.py:323] From C:\\Users\\jedib\\Anaconda3\\lib\\site-packages\\tensorflow\\python\\ops\\rnn.py:1610: static_rnn (from tensorflow.python.ops.rnn) is deprecated and will be removed in a future version.\n",
      "Instructions for updating:\n",
      "Please use `keras.layers.RNN(cell, unroll=True)`, which is equivalent to this API\n",
      "W1127 02:16:53.138356  6920 deprecation.py:506] From C:\\Users\\jedib\\Anaconda3\\lib\\site-packages\\tensorflow\\python\\ops\\init_ops.py:1251: calling VarianceScaling.__init__ (from tensorflow.python.ops.init_ops) with dtype is deprecated and will be removed in a future version.\n",
      "Instructions for updating:\n",
      "Call initializer instance with the dtype argument instead of passing it to the constructor\n",
      "W1127 02:16:53.162293  6920 deprecation.py:506] From C:\\Users\\jedib\\Anaconda3\\lib\\site-packages\\tensorflow\\python\\ops\\rnn_cell_impl.py:738: calling Zeros.__init__ (from tensorflow.python.ops.init_ops) with dtype is deprecated and will be removed in a future version.\n",
      "Instructions for updating:\n",
      "Call initializer instance with the dtype argument instead of passing it to the constructor\n",
      "W1127 02:16:55.302988  6920 deprecation.py:323] From <ipython-input-3-73b6020b37ba>:51: softmax_cross_entropy_with_logits (from tensorflow.python.ops.nn_ops) is deprecated and will be removed in a future version.\n",
      "Instructions for updating:\n",
      "\n",
      "Future major versions of TensorFlow will allow gradients to flow\n",
      "into the labels input on backprop by default.\n",
      "\n",
      "See `tf.nn.softmax_cross_entropy_with_logits_v2`.\n",
      "\n"
     ]
    }
   ],
   "source": [
    "#Network Architecture\n",
    "\n",
    "learning_rate  = 0.01\n",
    "training_steps = 10000\n",
    "batch_size     = 128\n",
    "display_step   = 200 #display loss and accuracy per display_step\n",
    "\n",
    "\n",
    "num_input  = 28 # (img shape: 28*28)\n",
    "timesteps  = 28 # timesteps (?)\n",
    "num_hidden = 200 # hidden layer num of features\n",
    "\n",
    "\n",
    "X = tf.placeholder(\"float\", [None, timesteps, num_input])\n",
    "Y = tf.placeholder(\"float\", [None, num_classes])\n",
    "\n",
    "# Hidden layer weights => 2*n_hidden because of forward + backward cells\n",
    "weights = tf.Variable(tf.random_normal([2*num_hidden, num_classes])) \n",
    " \n",
    "biases =  tf.Variable(tf.random_normal([num_classes]))\n",
    "\n",
    "\n",
    "def BiRNN(x, weights, biases):\n",
    "    \n",
    "    # Prepare data shape to match `rnn` function requirements\n",
    "    # Current data input shape: (batch_size, timesteps, n_input)\n",
    "    # Required shape: 'timesteps' tensors list of shape (batch_size, num_input)\n",
    "\n",
    "    # Unstack to get a list of 'timesteps' tensors of shape (batch_size, num_input)\n",
    "    x = tf.unstack(x, timesteps, 1)\n",
    "\n",
    "\n",
    "    # Forward direction cell\n",
    "    lstm_fw_cell = rnn.BasicLSTMCell(num_hidden, forget_bias=1.0) \n",
    "    #add starting bias to the forget gate so it reduces num of states dropped\n",
    "    \n",
    "    # Backward direction cell\n",
    "    lstm_bw_cell = rnn.BasicLSTMCell(num_hidden, forget_bias=1.0)\n",
    "\n",
    "    # Get lstm cell output\n",
    "    outputs, _, _ = rnn.static_bidirectional_rnn(lstm_fw_cell, lstm_bw_cell, x,dtype=tf.float32)\n",
    "    \n",
    "    # Linear activation, using rnn inner loop last output\n",
    "    return tf.matmul(outputs[-1], weights) + biases\n",
    "\n",
    "\n",
    "logits     = BiRNN(X, weights, biases)\n",
    "prediction = tf.nn.softmax(logits)\n",
    "\n",
    "# softmax + cross entropy loss function used \n",
    "loss_op   = tf.reduce_mean(tf.nn.softmax_cross_entropy_with_logits(logits=logits, labels=Y))\n",
    "optimizer = tf.train.GradientDescentOptimizer(learning_rate=learning_rate)\n",
    "train_op  = optimizer.minimize(loss_op)\n",
    "\n",
    "# Evaluate model \n",
    "correct_pred = tf.equal(tf.argmax(prediction, 1), tf.argmax(Y, 1))   \n",
    "accuracy     = tf.reduce_mean(tf.cast(correct_pred, tf.float32))\n",
    "\n",
    "# Initialize the variables \n",
    "init = tf.global_variables_initializer()"
   ]
  },
  {
   "cell_type": "code",
   "execution_count": 4,
   "metadata": {},
   "outputs": [
    {
     "name": "stdout",
     "output_type": "stream",
     "text": [
      "Step 1, Minibatch Loss= 2.3599, Training Accuracy= 0.375\n",
      "Step 200, Minibatch Loss= 0.4004, Training Accuracy= 0.898\n",
      "Step 400, Minibatch Loss= 0.1856, Training Accuracy= 0.961\n",
      "Step 600, Minibatch Loss= 0.2570, Training Accuracy= 0.898\n",
      "Step 800, Minibatch Loss= 0.2754, Training Accuracy= 0.953\n",
      "Step 1000, Minibatch Loss= 0.1903, Training Accuracy= 0.953\n",
      "Step 1200, Minibatch Loss= 0.1518, Training Accuracy= 0.961\n",
      "Step 1400, Minibatch Loss= 0.2015, Training Accuracy= 0.938\n",
      "Step 1600, Minibatch Loss= 0.0964, Training Accuracy= 0.977\n",
      "Step 1800, Minibatch Loss= 0.1899, Training Accuracy= 0.945\n",
      "Step 2000, Minibatch Loss= 0.1580, Training Accuracy= 0.953\n",
      "Step 2200, Minibatch Loss= 0.1516, Training Accuracy= 0.953\n",
      "Step 2400, Minibatch Loss= 0.1036, Training Accuracy= 0.984\n",
      "Step 2600, Minibatch Loss= 0.1329, Training Accuracy= 0.977\n",
      "Step 2800, Minibatch Loss= 0.0915, Training Accuracy= 0.977\n",
      "Step 3000, Minibatch Loss= 0.2344, Training Accuracy= 0.953\n",
      "Step 3200, Minibatch Loss= 0.1341, Training Accuracy= 0.961\n",
      "Step 3400, Minibatch Loss= 0.1449, Training Accuracy= 0.977\n",
      "Step 3600, Minibatch Loss= 0.2045, Training Accuracy= 0.953\n",
      "Step 3800, Minibatch Loss= 0.0668, Training Accuracy= 0.977\n",
      "Step 4000, Minibatch Loss= 0.2853, Training Accuracy= 0.930\n",
      "Step 4200, Minibatch Loss= 0.2400, Training Accuracy= 0.945\n",
      "Step 4400, Minibatch Loss= 0.2012, Training Accuracy= 0.938\n",
      "Step 4600, Minibatch Loss= 0.1884, Training Accuracy= 0.953\n",
      "Optimization Finished!\n",
      "Testing Accuracy: 0.92655\n"
     ]
    }
   ],
   "source": [
    "#Training \n",
    "\n",
    "with tf.Session() as sess:\n",
    "    \n",
    "    sess.run(init)\n",
    "    saver = tf.train.Saver(save_relative_paths=True)\n",
    "    index = 0\n",
    "    for step in range(1, training_steps+1):\n",
    "        if(index + batch_size > train_length):\n",
    "            break\n",
    "\n",
    "        batch_x = x_train[index:index+batch_size]\n",
    "        batch_y = y_train[index:index+batch_size]\n",
    "        index = index + batch_size\n",
    "        \n",
    "        # Reshape data to get 28 seq of 28 elements\n",
    "        batch_x = batch_x.reshape((batch_size, timesteps, num_input))\n",
    "        #print(index)\n",
    "\n",
    "        sess.run(train_op, feed_dict={X: batch_x, Y: batch_y})\n",
    "        \n",
    "        if step % display_step == 0 or step == 1:\n",
    "            # Calculate batch loss and accuracy\n",
    "            loss, acc = sess.run([loss_op, accuracy], feed_dict={X: batch_x, Y: batch_y})\n",
    "            print(\"Step \" + str(step) + \", Minibatch Loss= \" + \\\n",
    "                  \"{:.4f}\".format(loss) + \", Training Accuracy= \" + \\\n",
    "                  \"{:.3f}\".format(acc))\n",
    "\n",
    "    print(\"Optimization Finished!\")\n",
    "\n",
    "    #Test against test data set \n",
    "    test_data  = x_test.reshape((-1, timesteps, num_input))\n",
    "    test_label = y_test\n",
    "    print(\"Testing Accuracy:\", \\\n",
    "        sess.run(accuracy, feed_dict={X: test_data, Y: test_label}))\n",
    "    \n",
    "    saver.save(sess, 'my_test_model')\n",
    "    #saving the weights and bias  "
   ]
  },
  {
   "cell_type": "code",
   "execution_count": 6,
   "metadata": {},
   "outputs": [
    {
     "data": {
      "image/png": "[encoded data removed]",
      "text/plain": [
       "<Figure size 720x288 with 1 Axes>"
      ]
     },
     "metadata": {
      "needs_background": "light"
     },
     "output_type": "display_data"
    },
    {
     "name": "stdout",
     "output_type": "stream",
     "text": [
      "[1]\n"
     ]
    },
    {
     "data": {
      "image/png": "[encoded data removed]",
      "text/plain": [
       "<Figure size 720x288 with 1 Axes>"
      ]
     },
     "metadata": {
      "needs_background": "light"
     },
     "output_type": "display_data"
    },
    {
     "name": "stdout",
     "output_type": "stream",
     "text": [
      "[5]\n"
     ]
    },
    {
     "data": {
      "image/png": "[encoded data removed]",
      "text/plain": [
       "<Figure size 720x288 with 1 Axes>"
      ]
     },
     "metadata": {
      "needs_background": "light"
     },
     "output_type": "display_data"
    },
    {
     "name": "stdout",
     "output_type": "stream",
     "text": [
      "[0]\n"
     ]
    },
    {
     "data": {
      "image/png": "[encoded data removed]",
      "text/plain": [
       "<Figure size 720x288 with 1 Axes>"
      ]
     },
     "metadata": {
      "needs_background": "light"
     },
     "output_type": "display_data"
    },
    {
     "name": "stdout",
     "output_type": "stream",
     "text": [
      "[3]\n"
     ]
    },
    {
     "data": {
      "image/png": "[encoded data removed]",
      "text/plain": [
       "<Figure size 720x288 with 1 Axes>"
      ]
     },
     "metadata": {
      "needs_background": "light"
     },
     "output_type": "display_data"
    },
    {
     "name": "stdout",
     "output_type": "stream",
     "text": [
      "[2]\n"
     ]
    }
   ],
   "source": [
    "#Test the model with live inputs \n",
    "\n",
    "with tf.Session() as sess:\n",
    "    \n",
    "    #restore the weights and bias \n",
    "    new_saver = tf.train.import_meta_graph('my_test_model.meta')\n",
    "    new_saver.restore(sess, tf.train.latest_checkpoint('./'))\n",
    "    \n",
    "    #using tkinter for generating the GUI to draw\n",
    "    class ImageGenerator:\n",
    "        def __init__(self,parent,posx,posy,*kwargs):\n",
    "            self.ans = tk.StringVar()\n",
    "            self.ans.set(\"\")\n",
    "            self.parent = parent\n",
    "            self.posx   = posx\n",
    "            self.posy   = posy\n",
    "            self.sizex  = 300\n",
    "            self.sizey  = 300\n",
    "            self.b1     = \"up\"\n",
    "            self.xold   = None\n",
    "            self.yold   = None \n",
    "            self.drawing_area=tk.Canvas(self.parent,width=self.sizex,height=self.sizey,bg='black')\n",
    "            self.drawing_area.place(x=self.posx,y=self.posy)\n",
    "            self.drawing_area.bind(\"<Motion>\", self.motion)\n",
    "            self.drawing_area.bind(\"<ButtonPress-1>\", self.b1down)\n",
    "            self.drawing_area.bind(\"<ButtonRelease-1>\", self.b1up)\n",
    "            self.button=tk.Button(self.parent,text=\"Done!\",width=10,bg='white',command=self.save)\n",
    "            self.button.place(x=self.sizex/7,y=self.sizey+20)\n",
    "            self.button1=tk.Button(self.parent,text=\"Clear!\",width=10,bg='white',command=self.clear)\n",
    "            self.button1.place(x=(self.sizex/7)+80,y=self.sizey+20)\n",
    "    \n",
    "            self.label = tk.Label(self.parent, textvariable= self.ans)\n",
    "            self.label.place(x=(self.sizex/7)+300,y=100)\n",
    "    \n",
    "            self.image=Image.new(\"RGB\",(300,300),(0,0,0))\n",
    "            self.draw=ImageDraw.Draw(self.image)\n",
    "\n",
    "        def save(self):\n",
    "            filename = \"temp.jpg\"\n",
    "            self.image.save(filename)\n",
    "\n",
    "            baseheight = 28\n",
    "            img = Image.open(\"temp.jpg\")\n",
    "            #dilation \n",
    "            img = img.filter(ImageFilter.MaxFilter(3))\n",
    "            #resize image into 28x28\n",
    "            hpercent = (baseheight / float(img.size[1]))\n",
    "            wsize = int((float(img.size[0]) * float(hpercent)))\n",
    "            img = img.resize((wsize, baseheight), PIL.Image.ANTIALIAS)\n",
    "            #making it compeletely black and white \n",
    "            img = img.convert('1')\n",
    "            img.save(\"resized_image.jpg\")\n",
    "  \n",
    "            img = Image.open(\"resized_image.jpg\")\n",
    "            arr = np.array(img)\n",
    "\n",
    "            #print(len(arr))\n",
    "            \n",
    "            plt.figure(figsize=(10, 4))\n",
    "\n",
    "            for i in range(1):\n",
    "                # display original\n",
    "                ax = plt.subplot(2, 1, i + 1)\n",
    "                plt.imshow(arr)\n",
    "                plt.gray()\n",
    "                ax.get_xaxis().set_visible(False)\n",
    "                ax.get_yaxis().set_visible(False)\n",
    "            plt.show()\n",
    "            \n",
    "            arr = arr.reshape((-1,28, 28))\n",
    "            res = sess.run(tf.argmax(prediction, 1), feed_dict={X: arr})\n",
    "            print(res)\n",
    "            self.ans.set(class_dictionary[res[0]]) # this will set the text in the GUI\n",
    "            \n",
    "        def clear(self):\n",
    "            self.drawing_area.delete(\"all\")\n",
    "            self.image=Image.new(\"RGB\",(300,300),(0,0,0))\n",
    "            self.draw=ImageDraw.Draw(self.image)\n",
    "\n",
    "        def b1down(self,event):\n",
    "            self.b1 = \"down\"\n",
    "\n",
    "        def b1up(self,event):\n",
    "            self.b1 = \"up\"\n",
    "            self.xold = None\n",
    "            self.yold = None\n",
    "\n",
    "        def motion(self,event):\n",
    "            if self.b1 == \"down\":\n",
    "                if self.xold is not None and self.yold is not None:\n",
    "                    event.widget.create_line(self.xold,self.yold,event.x,event.y,smooth='true',width=10,fill='white')\n",
    "                    self.draw.line(((self.xold,self.yold),(event.x,event.y)),(255,255,255),width=3)\n",
    "\n",
    "            self.xold = event.x\n",
    "            self.yold = event.y\n",
    "\n",
    "    if __name__ == \"__main__\":\n",
    "        root=tk.Tk()\n",
    "        root.wm_geometry(\"%dx%d+%d+%d\" % (400, 400, 10, 10))\n",
    "        root.config(bg='white')\n",
    "        ImageGenerator(root,10,10)\n",
    "        root.mainloop()"
   ]
  },
  {
   "cell_type": "code",
   "execution_count": null,
   "metadata": {},
   "outputs": [],
   "source": []
  }
 ],
 "metadata": {
  "kernelspec": {
   "display_name": "Python 3",
   "language": "python",
   "name": "python3"
  },
  "language_info": {
   "codemirror_mode": {
    "name": "ipython",
    "version": 3
   },
   "file_extension": ".py",
   "mimetype": "text/x-python",
   "name": "python",
   "nbconvert_exporter": "python",
   "pygments_lexer": "ipython3",
   "version": "3.7.3"
  }
 },
 "nbformat": 4,
 "nbformat_minor": 2
}
